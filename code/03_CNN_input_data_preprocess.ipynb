{
 "cells": [
  {
   "cell_type": "code",
   "execution_count": 1,
   "id": "0bc21e01-ce39-415b-8b6b-e737168d6339",
   "metadata": {},
   "outputs": [],
   "source": [
    "import numpy as np\n",
    "import random\n",
    "import itertools\n",
    "from itertools import combinations\n",
    "import anndata as ad\n",
    "import os\n",
    "import pandas as pd\n",
    "import scanpy as sc\n",
    "from scipy.sparse import issparse"
   ]
  },
  {
   "cell_type": "markdown",
   "id": "6ff065e3-32ff-4bf6-af73-9e136f9c9d32",
   "metadata": {},
   "source": [
    "## Load scRNA data from geosketch_CCA"
   ]
  },
  {
   "cell_type": "code",
   "execution_count": 2,
   "id": "da90b234-463a-4f09-8f44-435229436115",
   "metadata": {},
   "outputs": [
    {
     "data": {
      "text/plain": [
       "AnnData object with n_obs × n_vars = 10804 × 36601\n",
       "    obs: 'n_counts', 'n_genes', 'mito', 'Dataset', 'Organ_orig', 'Organ', 'Sample', 'Patient', 'Subtype', 'Tissue_site', 'Tissue', 'CancerType', 'DataOrgTis', 'PtOrgTis', 'SpOrgTis', 'leiden', 'cnv_status', 'cnv_leiden', 'cnv_score', 'cell_type_major', 'cell_type_subset'\n",
       "    var: 'highly_variable', 'means', 'dispersions', 'dispersions_norm', 'chromosome', 'start', 'end', 'gene_id', 'gene_name'\n",
       "    uns: 'anno_2212_colors', 'anno_cat_colors', 'cell_type_subset_colors', 'cnv', 'cnv_leiden_colors', 'cnv_neighbors', 'cnv_status_colors', 'hvg', 'leiden', 'neighbors', 'pca', 'umap'\n",
       "    obsm: 'X_cnv', 'X_cnv_pca', 'X_cnv_umap', 'X_pca', 'X_umap'\n",
       "    varm: 'PCs'\n",
       "    obsp: 'cnv_neighbors_connectivities', 'cnv_neighbors_distances', 'connectivities', 'distances'"
      ]
     },
     "execution_count": 2,
     "metadata": {},
     "output_type": "execute_result"
    }
   ],
   "source": [
    "path = 'data/'\n",
    "adata = sc.read(path+'CCA_Lung_geosketch.h5ad')\n",
    "gene_list_df = pd.read_csv('DB/CCIdb.csv')\n",
    "adata"
   ]
  },
  {
   "cell_type": "markdown",
   "id": "9221339e-e77b-44f2-9547-62449c2e7c18",
   "metadata": {},
   "source": [
    "## Random sampling"
   ]
  },
  {
   "cell_type": "code",
   "execution_count": 3,
   "id": "69b32ce7-46f0-4fe4-adfa-7129f4050a37",
   "metadata": {},
   "outputs": [],
   "source": [
    "output_folder = \"data\"\n",
    "if not os.path.exists(output_folder):\n",
    "    os.makedirs(output_folder)"
   ]
  },
  {
   "cell_type": "code",
   "execution_count": 4,
   "id": "7d0dd564-4ece-46ef-bf93-83db43c2156f",
   "metadata": {},
   "outputs": [],
   "source": [
    "# Classify cells by cell type\n",
    "obs_c = 'cell_type_subset'\n",
    "all_d = dict()  # Dictionary for all cells: cell ID -> cell type\n",
    "ct_d = dict()  # Dictionary for cell lists by cell type: cell type -> list of cell IDs\n",
    "\n",
    "for cell, ct in adata.obs[obs_c].items():\n",
    "    all_d[cell] = ct\n",
    "    if ct in ct_d:\n",
    "        ct_d[ct].append(cell)\n",
    "    else:\n",
    "        ct_d[ct] = [cell]"
   ]
  },
  {
   "cell_type": "code",
   "execution_count": 5,
   "id": "63699bd2-ca33-40f0-b976-08395ee3e8cb",
   "metadata": {},
   "outputs": [],
   "source": [
    "other_cells = ['Tip_Cells', 'activated_capillary', 'Immature_Phenotype',\n",
    "               'capillary_I', 'capillary_II', 'Activated_EC', 'TandNK', \n",
    "               'Epithelial', 'Myeloid', 'Fibro_Peri', 'B']"
   ]
  },
  {
   "cell_type": "code",
   "execution_count": 6,
   "id": "53e28c9b-334b-4120-8311-d6b9591985e3",
   "metadata": {},
   "outputs": [],
   "source": [
    "numb1 = 100  # Tumor cell sampling\n",
    "numb2 = 100  # Other cell sampling\n",
    "\n",
    "for idx, cell_type in enumerate(other_cells):\n",
    "    filename = os.path.join(output_folder, f\"combi-cells_c{idx}.txt\")\n",
    "    with open(filename, \"w\") as f_out:\n",
    "        for i in range(500):\n",
    "            tum_samples = random.sample(ct_d['tumor'], numb1)\n",
    "            cell_samples = random.sample(ct_d[cell_type], numb2)\n",
    "            # Shuffle\n",
    "            random.shuffle(tum_samples)\n",
    "            random.shuffle(cell_samples)\n",
    "            # Save\n",
    "            for tum, cell in zip(tum_samples, cell_samples):\n",
    "                f_out.write(f\"{tum},{cell}\\n\")"
   ]
  },
  {
   "cell_type": "markdown",
   "id": "1f608ce3-9ef8-4ec5-b40b-7313506cc52f",
   "metadata": {},
   "source": [
    "## Preprocess adata"
   ]
  },
  {
   "cell_type": "code",
   "execution_count": 7,
   "id": "feb517d2-2870-4e26-902f-ff1201cf3e27",
   "metadata": {},
   "outputs": [],
   "source": [
    "# annotate the group of mitochondrial genes as \"mt\"\n",
    "adata.var[\"mt\"] = adata.var_names.str.startswith(\"MT-\")\n",
    "sc.pp.calculate_qc_metrics(\n",
    "    adata, qc_vars=[\"mt\"], percent_top=None, log1p=False, inplace=True\n",
    ")\n",
    "\n",
    "sc.pp.normalize_total(adata, target_sum=1e4)\n",
    "sc.pp.log1p(adata)\n",
    "sc.pp.regress_out(adata, [\"total_counts\", \"pct_counts_mt\"])\n",
    "sc.pp.scale(adata, max_value=10)"
   ]
  },
  {
   "cell_type": "code",
   "execution_count": 8,
   "id": "870b8d8d-e448-4466-989f-413043919cb4",
   "metadata": {},
   "outputs": [],
   "source": [
    "path = 'data/'\n",
    "adata.write(path + 'CCA_Lung_geosketch_prepro.h5ad')"
   ]
  },
  {
   "cell_type": "code",
   "execution_count": 9,
   "id": "6c4bc587-911b-4ec7-8864-040a26a77443",
   "metadata": {},
   "outputs": [],
   "source": [
    "cell_cnt = len(adata.obs.cell_type_subset.value_counts())-1\n",
    "cell_cnt\n",
    "\n",
    "for i in range(cell_cnt):\n",
    "    # Load combi-cells_cX.txt file\n",
    "    file_name = f'combi-cells_c{i}.txt'\n",
    "    combi_cells_df = pd.read_csv(f'{output_folder}/{file_name}', header=None)\n",
    "    \n",
    "    # Extract gene indices (maintaining order)\n",
    "    tumor_gene_indices = [np.where(adata.var_names == gene)[0][0] for gene in gene_list_df['TumorGene'] if gene in adata.var_names]\n",
    "    other_gene_indices = [np.where(adata.var_names == gene)[0][0] for gene in gene_list_df['OtherGene'] if gene in adata.var_names]\n",
    "\n",
    "    print(\"Gene index extraction: \", i)\n",
    "    # Initialize list to store results\n",
    "    result_arrays = []    \n",
    "    \n",
    "    # Split into 100 groups and generate expression data for each group\n",
    "    for group_start in range(0, 50000, 100):\n",
    "        tumor_cells = combi_cells_df.iloc[group_start:group_start+100, 0]\n",
    "        other_cells = combi_cells_df.iloc[group_start:group_start+100, 1]\n",
    "\n",
    "        # Create expression data arrays\n",
    "        expression_data_tumor = np.array([adata[adata.obs_names.isin([cell]), tumor_gene_indices].X.toarray().flatten() for cell in tumor_cells])\n",
    "        expression_data_other = np.array([adata[adata.obs_names.isin([cell]), other_gene_indices].X.toarray().flatten() for cell in other_cells])\n",
    "\n",
    "        # Combine two channels and add to results\n",
    "        combined_expression_data = np.stack((expression_data_tumor, expression_data_other), axis=-1)\n",
    "        result_arrays.append(combined_expression_data.astype(np.float32))\n",
    "\n",
    "    print(\"Data configuration complete: \", i)\n",
    "        \n",
    "    # Save results as .npz file\n",
    "    np.savez(f'{output_folder}/{file_name.replace(\".txt\", \".npz\")}', *result_arrays)\n",
    "\n",
    "    print(f\"File {file_name} processed and saved as .npz\")\n"
   ]
  },
  {
   "cell_type": "code",
   "execution_count": null,
   "id": "e9cb7422-d3e8-4d0a-9c1f-28d75463a976",
   "metadata": {},
   "outputs": [],
   "source": []
  }
 ],
 "metadata": {
  "kernelspec": {
   "display_name": "Python 3 (ipykernel)",
   "language": "python",
   "name": "python3"
  },
  "language_info": {
   "codemirror_mode": {
    "name": "ipython",
    "version": 3
   },
   "file_extension": ".py",
   "mimetype": "text/x-python",
   "name": "python",
   "nbconvert_exporter": "python",
   "pygments_lexer": "ipython3",
   "version": "3.9.19"
  }
 },
 "nbformat": 4,
 "nbformat_minor": 5
}
