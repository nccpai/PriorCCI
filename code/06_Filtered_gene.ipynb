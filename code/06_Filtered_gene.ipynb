{
 "cells": [
  {
   "cell_type": "code",
   "execution_count": 1,
   "id": "050589a9-deec-4159-bc93-cf00d90ffc18",
   "metadata": {},
   "outputs": [],
   "source": [
    "import numpy as np\n",
    "import pandas as pd\n",
    "import scanpy as sc\n",
    "import os"
   ]
  },
  {
   "cell_type": "markdown",
   "id": "4e9314c9-1fb5-4dab-9062-463e7dafcfab",
   "metadata": {},
   "source": [
    "### def"
   ]
  },
  {
   "cell_type": "code",
   "execution_count": 2,
   "id": "2fde386d-f5c5-4b48-b2f2-341f80179edf",
   "metadata": {},
   "outputs": [],
   "source": [
    "# Define function to calculate ECF\n",
    "def calculate_ecf(adata, genes, cell_type, cell_type_col, exclude_type=None):\n",
    "    gene_ecf_list = []\n",
    "    for gene_name in genes:\n",
    "        if gene_name in adata.var_names:\n",
    "            gene_expression = adata[:, gene_name].X.toarray().flatten()\n",
    "            expressed_cells = np.sum(gene_expression > 0)\n",
    "            total_cells = gene_expression.shape[0]\n",
    "\n",
    "            # Exclude certain cell type if specified\n",
    "            if exclude_type:\n",
    "                excluded_cells_count = np.sum(adata.obs[cell_type_col] == exclude_type)\n",
    "                adjusted_total_cells = total_cells - excluded_cells_count\n",
    "                ecf = (expressed_cells / adjusted_total_cells) * 100 if adjusted_total_cells > 0 else 0\n",
    "            else:\n",
    "                ecf = (expressed_cells / total_cells) * 100\n",
    "\n",
    "            gene_ecf_list.append({\n",
    "                'Gene': gene_name,\n",
    "                f'{cell_type}_ECF': ecf\n",
    "            })\n",
    "        else:\n",
    "            gene_ecf_list.append({\n",
    "                'Gene': gene_name,\n",
    "                f'{cell_type}_ECF': np.nan\n",
    "            })\n",
    "    return pd.DataFrame(gene_ecf_list)\n",
    "\n",
    "# Define function to calculate cell type percentage\n",
    "def calculate_cell_type_percentage(genes, adata, cell_types, cell_type_col):\n",
    "    data = []\n",
    "    for gene_name in genes:\n",
    "        gene_data = {'Gene': gene_name}\n",
    "        if gene_name in adata.var_names:\n",
    "            gene_expression = adata[:, gene_name].X.toarray().flatten()\n",
    "            expressed_cells = adata[gene_expression > 0, :]\n",
    "\n",
    "            for cell_type in cell_types:\n",
    "                total_cells_in_type = np.sum(adata.obs[cell_type_col] == cell_type)\n",
    "                expressed_cells_in_type = np.sum(expressed_cells.obs[cell_type_col] == cell_type)\n",
    "                percentage = (expressed_cells_in_type / total_cells_in_type) * 100 if total_cells_in_type > 0 else 0\n",
    "                gene_data[cell_type] = round(percentage, 2)\n",
    "        else:\n",
    "            for cell_type in cell_types:\n",
    "                gene_data[cell_type] = np.nan\n",
    "        data.append(gene_data)\n",
    "    \n",
    "    return pd.DataFrame(data)\n",
    "\n",
    "# Define function to create empty dataframe\n",
    "def create_empty_df(genes, cell_types):\n",
    "    return pd.DataFrame(0.0, index=genes, columns=cell_types)\n",
    "\n",
    "# Define function to calculate cell type percentage among expressed cells\n",
    "def calculate_exp_cell_type_percentage(genes, adata, cell_types, cell_type_col):\n",
    "    exp_cell_type_percentage_df = create_empty_df(genes, cell_types)\n",
    "    for gene_name in genes:\n",
    "        if gene_name in adata.var_names:\n",
    "            gene_expression = adata[:, gene_name].X\n",
    "            expressed_cells = adata[gene_expression > 0, :]\n",
    "\n",
    "            if expressed_cells.n_obs > 0:\n",
    "                cell_type_counts = expressed_cells.obs[cell_type_col].value_counts(normalize=True) * 100\n",
    "\n",
    "                for cell_type, percentage in cell_type_counts.items():\n",
    "                    exp_cell_type_percentage_df.loc[gene_name, cell_type] = round(percentage, 2)\n",
    "    \n",
    "    exp_cell_type_percentage_df.fillna(0, inplace=True)\n",
    "    return exp_cell_type_percentage_df"
   ]
  },
  {
   "cell_type": "markdown",
   "id": "4c53d2e9-3811-43e9-88eb-9727ba0d7009",
   "metadata": {},
   "source": [
    "## Load adata"
   ]
  },
  {
   "cell_type": "code",
   "execution_count": 3,
   "id": "918eabcf-f75d-47e6-9a84-1874542acd40",
   "metadata": {},
   "outputs": [],
   "source": [
    "# no prepro data\n",
    "adata_gs = sc.read('data/CCA_Lung_geosketch.h5ad')\n",
    "\n",
    "adata_gs_tumor = adata_gs[adata_gs.obs['cell_type_subset'] == 'tumor'].copy()\n",
    "adata_gs_Tip_Cells = adata_gs[adata_gs.obs['cell_type_subset'] == 'Tip_Cells'].copy()"
   ]
  },
  {
   "cell_type": "code",
   "execution_count": 4,
   "id": "c301ba00-6930-48af-b154-2ff1b4f7df8e",
   "metadata": {},
   "outputs": [],
   "source": [
    "# prepro data\n",
    "adata_pre = sc.read('data/CCA_Lung_geosketch_prepro.h5ad')\n",
    "\n",
    "adata_pre_tumor = adata_pre[adata_pre.obs['cell_type_subset'] == 'tumor'].copy()\n",
    "adata_pre_Tip_Cells = adata_pre[adata_pre.obs['cell_type_subset'] == 'Tip_Cells'].copy()"
   ]
  },
  {
   "cell_type": "code",
   "execution_count": 5,
   "id": "e5472026-201e-492b-8723-801e8728604b",
   "metadata": {},
   "outputs": [],
   "source": [
    "# Load result files\n",
    "path = 'res/'\n",
    "dfs = {}\n",
    "file_list = [f for f in os.listdir(path) if f.startswith(\"gcam_\") and f.endswith(\".csv\")]\n",
    "\n",
    "for file in file_list:\n",
    "    key = file.split(\"gcam_\")[1].split(\"_res\")[0]  # Extract the part of the string between 'gcam_' and '._res'\n",
    "    df = pd.read_csv(path + file)\n",
    "    dfs[key] = df"
   ]
  },
  {
   "cell_type": "markdown",
   "id": "e5da1ba7-cd47-4f05-8d54-09b91f74ddf4",
   "metadata": {},
   "source": [
    "## Gene filtering"
   ]
  },
  {
   "cell_type": "code",
   "execution_count": 6,
   "id": "c4dc63ae-eafd-461d-80f0-9abeea56d6c1",
   "metadata": {},
   "outputs": [],
   "source": [
    "# Generate gene lists\n",
    "typelist = 'cell_type_subset'\n",
    "celltype = 'Tip_Cells'\n",
    "tumor = 'TumorCell'\n",
    "\n",
    "adata_pre_celltype = adata_pre[adata_pre.obs[typelist] == celltype].copy()\n",
    "genelist1 = set(dfs[celltype][celltype].tolist())\n",
    "genelist2 = set(dfs[celltype][tumor].tolist())\n",
    "\n",
    "avg_genelist1 = set(adata_pre_celltype.to_df().mean()[adata_pre_celltype.to_df().mean() > 0].index.tolist())\n",
    "avg_genelist2 = set(adata_pre_tumor.to_df().mean()[adata_pre_tumor.to_df().mean() > 0].index.tolist())\n",
    "\n",
    "fil_genelist1 = list(genelist1 & avg_genelist1)\n",
    "fil_genelist2 = list(genelist2 & avg_genelist2)\n",
    "\n",
    "fil = dfs[celltype][dfs[celltype][celltype].isin(fil_genelist1)]\n",
    "fil = fil[fil[tumor].isin(fil_genelist2)]\n",
    "Tip = fil.sort_values(by='Mean Normalized_Weight', ascending = False).reset_index(drop = True)"
   ]
  },
  {
   "cell_type": "code",
   "execution_count": 7,
   "id": "66b8e962-1939-45b8-a1bb-6727e5fcc425",
   "metadata": {
    "scrolled": true
   },
   "outputs": [],
   "source": [
    "# Calculate ECF\n",
    "tumor_genes = list(Tip['TumorCell'].unique())\n",
    "tip_genes = list(Tip['Tip_Cells'].unique())\n",
    "cell_types_gs = adata_gs.obs['cell_type_subset'].unique()\n",
    "\n",
    "df_tip_ecf_all_unique = df_tip_ecf_all.drop_duplicates(subset=['Gene'], keep='first').reset_index(drop=True)\n",
    "df_tumor_ecf_all_unique = df_tumor_ecf_all.drop_duplicates(subset=['Gene'], keep='first').reset_index(drop=True)\n",
    "\n",
    "# Calculate cell type percentage for TumorCell gene list\n",
    "tumor_cell_type_percentage_df = calculate_cell_type_percentage(tumor_genes, adata_gs, cell_types_gs, 'cell_type_subset')\n",
    "tumor_cell_type_percentage_df['Tumor_Total_ECF'] = df_tumor_ecf_all['Total_ECF']\n",
    "\n",
    "# Calculate cell type percentage for Tip_Cells gene list\n",
    "tip_cell_type_percentage_df = calculate_cell_type_percentage(tip_genes, adata_gs, cell_types_gs, 'cell_type_subset')\n",
    "tip_cell_type_percentage_df['Tip_Total_ECF'] = df_tip_ecf_all_unique['Total_ECF']\n",
    "\n",
    "# Set index and filter results\n",
    "tumor_cell_type_percentage_df.set_index(tumor_cell_type_percentage_df.columns[0], inplace=True)\n",
    "filtered_df_tumor = tumor_cell_type_percentage_df[tumor_cell_type_percentage_df['tumor'] == tumor_cell_type_percentage_df.drop('Tumor_Total_ECF', axis=1).max(axis=1)]\n",
    "\n",
    "tip_cell_type_percentage_df.set_index(tip_cell_type_percentage_df.columns[0], inplace=True)\n",
    "filtered_df_tip = tip_cell_type_percentage_df[tip_cell_type_percentage_df['Tip_Cells'] == tip_cell_type_percentage_df.drop('Tip_Total_ECF', axis=1).max(axis=1)]"
   ]
  },
  {
   "cell_type": "code",
   "execution_count": 8,
   "id": "fd772b91-eac8-4c44-b082-e82e6b84747e",
   "metadata": {},
   "outputs": [],
   "source": [
    "# Extract gene lists\n",
    "gene_list_tumor = filtered_df_tumor.index.tolist()\n",
    "gene_list_tip = filtered_df_tip.index.tolist()\n",
    "\n",
    "tmp = Tip[Tip['TumorCell'].isin(gene_list_tumor)]\n",
    "tmp = tmp[tmp['Tip_Cells'].isin(gene_list_tip)]\n",
    "common_pair = tmp.reset_index(drop=True)\n",
    "common_pair = common_pair[common_pair['Count'] >= 4]\n",
    "common_pair.reset_index(drop=True).round(4)"
   ]
  },
  {
   "cell_type": "code",
   "execution_count": null,
   "id": "85f51b32-0da0-46ac-96ba-b925c52ff866",
   "metadata": {},
   "outputs": [],
   "source": []
  }
 ],
 "metadata": {
  "kernelspec": {
   "display_name": "Python 3 (ipykernel)",
   "language": "python",
   "name": "python3"
  },
  "language_info": {
   "codemirror_mode": {
    "name": "ipython",
    "version": 3
   },
   "file_extension": ".py",
   "mimetype": "text/x-python",
   "name": "python",
   "nbconvert_exporter": "python",
   "pygments_lexer": "ipython3",
   "version": "3.9.19"
  }
 },
 "nbformat": 4,
 "nbformat_minor": 5
}
