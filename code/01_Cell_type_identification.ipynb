{
 "cells": [
  {
   "cell_type": "code",
   "execution_count": 1,
   "id": "0c1b2202-bac9-43ec-86c4-1f59b609bcac",
   "metadata": {},
   "outputs": [
    {
     "name": "stdout",
     "output_type": "stream",
     "text": [
      "https://github.com/combio-dku\n"
     ]
    }
   ],
   "source": [
    "import pandas as pd\n",
    "import scanpy as sc\n",
    "\n",
    "from MarkerCount.hicat import HiCAT, show_summary \n",
    "from MarkerCount.hicat import plot_marker_expression_profile"
   ]
  },
  {
   "cell_type": "markdown",
   "id": "1a80b205-b2fd-4832-8f1b-6b639f65ec69",
   "metadata": {},
   "source": [
    "### Load scRNA data from CCA"
   ]
  },
  {
   "cell_type": "code",
   "execution_count": 2,
   "id": "8d3cfd52-ff77-4226-b6df-40607fb554d8",
   "metadata": {},
   "outputs": [
    {
     "data": {
      "text/plain": [
       "AnnData object with n_obs × n_vars = 482351 × 36601\n",
       "    obs: 'n_counts', 'n_genes', 'mito', 'Dataset', 'Organ_orig', 'Organ', 'Sample', 'Patient', 'Subtype', 'Tissue_site', 'Tissue', 'CancerType', 'DataOrgTis', 'PtOrgTis', 'SpOrgTis', 'leiden', 'cnv_status', 'cnv_leiden', 'cnv_score', 'cell_type_major'\n",
       "    var: 'highly_variable', 'means', 'dispersions', 'dispersions_norm', 'chromosome', 'start', 'end', 'gene_id', 'gene_name'\n",
       "    uns: 'anno_2212_colors', 'anno_cat_colors', 'cnv', 'cnv_leiden_colors', 'cnv_neighbors', 'cnv_status_colors', 'hvg', 'leiden', 'neighbors', 'pca', 'umap'\n",
       "    obsm: 'X_cnv', 'X_cnv_pca', 'X_cnv_umap', 'X_pca', 'X_umap'\n",
       "    varm: 'PCs'\n",
       "    obsp: 'cnv_neighbors_connectivities', 'cnv_neighbors_distances', 'connectivities', 'distances'"
      ]
     },
     "execution_count": 2,
     "metadata": {},
     "output_type": "execute_result"
    }
   ],
   "source": [
    "add = 'data/'\n",
    "adata = sc.read(add+'CCA_Lung.h5ad')\n",
    "adata"
   ]
  },
  {
   "cell_type": "code",
   "execution_count": 3,
   "id": "bd461d4a-ce65-4fc4-94b2-d2ce05da390d",
   "metadata": {},
   "outputs": [
    {
     "data": {
      "text/plain": [
       "AnnData object with n_obs × n_vars = 9990 × 36601\n",
       "    obs: 'n_counts', 'n_genes', 'mito', 'Dataset', 'Organ_orig', 'Organ', 'Sample', 'Patient', 'Subtype', 'Tissue_site', 'Tissue', 'CancerType', 'DataOrgTis', 'PtOrgTis', 'SpOrgTis', 'leiden', 'cnv_status', 'cnv_leiden', 'cnv_score', 'cell_type_major'\n",
       "    var: 'highly_variable', 'means', 'dispersions', 'dispersions_norm', 'chromosome', 'start', 'end', 'gene_id', 'gene_name'\n",
       "    uns: 'anno_2212_colors', 'anno_cat_colors', 'cnv', 'cnv_leiden_colors', 'cnv_neighbors', 'cnv_status_colors', 'hvg', 'leiden', 'neighbors', 'pca', 'umap'\n",
       "    obsm: 'X_cnv', 'X_cnv_pca', 'X_cnv_umap', 'X_pca', 'X_umap'\n",
       "    varm: 'PCs'\n",
       "    obsp: 'cnv_neighbors_connectivities', 'cnv_neighbors_distances', 'connectivities', 'distances'"
      ]
     },
     "execution_count": 3,
     "metadata": {},
     "output_type": "execute_result"
    }
   ],
   "source": [
    "adata_endo = adata[adata.obs['cell_type_major'] == 'Endothelial'].copy()\n",
    "adata_endo"
   ]
  },
  {
   "cell_type": "code",
   "execution_count": 4,
   "id": "487ea608-2e24-4e86-8edb-eade229c7a7e",
   "metadata": {
    "scrolled": true
   },
   "outputs": [],
   "source": [
    "X_endo = adata_endo.to_df()\n",
    "\n",
    "## Marker file to use\n",
    "mkr_file = 'DB/cell_markers_EC.tsv'\n",
    "\n",
    "target_tissues = [] # ['Immune', 'General']\n",
    "target_cell_types = ['Endothelial cell'] \n",
    "to_exclude = [] \n",
    "\n",
    "df_pred, summary = \\\n",
    "    HiCAT( X_endo, mkr_file, log_transformed = False,\n",
    "           target_tissues = target_tissues, target_cell_types = target_cell_types, \n",
    "               minor_types_to_exclude = to_exclude, mkr_selector = '100000', \n",
    "               N_neighbors_minor = 31, N_neighbors_subset = 1,  \n",
    "               Clustering_algo = 'lv', Clustering_resolution = 1, \n",
    "               Clustering_base = 'pca', N_pca_components = 15, \n",
    "               cbc_cutoff = 0.01, Target_FPR = 0.05, pval_th = 0.05,\n",
    "               cycling_cell = False, copy_X = False, verbose = False )\n"
   ]
  },
  {
   "cell_type": "code",
   "execution_count": 5,
   "id": "2962e1e5-7b61-4efd-b731-31d75a12e5ab",
   "metadata": {},
   "outputs": [],
   "source": [
    "df_pred.cell_type_subset.value_counts()"
   ]
  },
  {
   "cell_type": "code",
   "execution_count": 6,
   "id": "822a9431-b950-4da8-843a-90dbea0c60de",
   "metadata": {},
   "outputs": [],
   "source": [
    "types_df = df_pred[['cell_type_subset']]\n",
    "types_df.index = adata_endo.obs.index\n",
    "adata_endo.obs.loc[types_df.index, ['cell_type_subset']] = types_df[['cell_type_subset']]"
   ]
  },
  {
   "cell_type": "code",
   "execution_count": 7,
   "id": "9efce535-ff57-40ec-b66b-8b87593ef38d",
   "metadata": {},
   "outputs": [],
   "source": [
    "adata.obs['cell_type_subset'] = adata.obs['cell_type_major']\n",
    "adata.obs['cell_type_major'] = adata.obs['cell_type_major'].astype(str)\n",
    "adata_endo.obs['cell_type_subset'] = adata_endo.obs['cell_type_subset'].astype(str)\n",
    "\n",
    "adata.obs.loc[adata.obs['cell_type_subset'] == 'Endothelial', 'cell_type_subset'] = adata_endo.obs['cell_type_subset'].values"
   ]
  },
  {
   "cell_type": "code",
   "execution_count": 8,
   "id": "83b633df-cc1f-4551-a98e-24aa12267751",
   "metadata": {},
   "outputs": [],
   "source": [
    "adata.obs['cell_type_subset'].value_counts()"
   ]
  },
  {
   "cell_type": "code",
   "execution_count": 9,
   "id": "18f85ed0-42f3-4241-b274-f9c28c8e318a",
   "metadata": {},
   "outputs": [],
   "source": [
    "# Save\n",
    "path = 'data/'\n",
    "adata.write(path + 'CCA_Lung_subset.h5ad')"
   ]
  },
  {
   "cell_type": "code",
   "execution_count": null,
   "id": "6329ee16-e250-40fb-b562-1921dc10e376",
   "metadata": {},
   "outputs": [],
   "source": []
  }
 ],
 "metadata": {
  "kernelspec": {
   "display_name": "Python 3 (ipykernel)",
   "language": "python",
   "name": "python3"
  },
  "language_info": {
   "codemirror_mode": {
    "name": "ipython",
    "version": 3
   },
   "file_extension": ".py",
   "mimetype": "text/x-python",
   "name": "python",
   "nbconvert_exporter": "python",
   "pygments_lexer": "ipython3",
   "version": "3.9.19"
  }
 },
 "nbformat": 4,
 "nbformat_minor": 5
}
