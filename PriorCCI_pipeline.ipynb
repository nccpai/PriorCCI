{
 "cells": [
  {
   "cell_type": "code",
   "execution_count": null,
   "id": "e87e15ee",
   "metadata": {},
   "outputs": [],
   "source": [
    "# 📦 Import required modules\n",
    "import scanpy as sc\n",
    "from scripts.priorcci_preprocess import input_data_preprocess\n",
    "from scripts.data_loader import load_data\n",
    "from scripts.train import train_and_save_model\n",
    "from scripts.evaluate import evaluate_saved_models\n",
    "from scripts.utils import f1_m, precision_m, recall_m\n",
    "from scripts.visualize import visualize_final_model_results\n",
    "from scripts.gradcam_module import run_gradcam_analysis\n",
    "from scripts.merge_gradcam_results import merge_gradcam_results\n",
    "from tensorflow.keras.models import load_model\n",
    "from sklearn.model_selection import train_test_split\n"
   ]
  },
  {
   "cell_type": "code",
   "execution_count": null,
   "id": "99b25543",
   "metadata": {},
   "outputs": [],
   "source": [
    "# 🔬 Step 1: Preprocess input data for CNN\n",
    "adata = sc.read('DB/CCA_Lung_toy.h5ad')\n",
    "input_data_preprocess(\n",
    "    adata,\n",
    "    celltype_col='cell_type_major',\n",
    "    output_folder='cnn_input_data',\n",
    "    n_repeat=1000\n",
    ")\n"
   ]
  },
  {
   "cell_type": "code",
   "execution_count": null,
   "id": "64bf89db",
   "metadata": {},
   "outputs": [],
   "source": [
    "# 📂 Step 2: Load .npz samples and prepare training labels\n",
    "data, labels, num_classes, num_lrpair = load_data(path='cnn_input_data/')\n"
   ]
  },
  {
   "cell_type": "code",
   "execution_count": null,
   "id": "a4f06bd3",
   "metadata": {},
   "outputs": [],
   "source": [
    "# 🧠 Step 3: Train and save CNN models\n",
    "train_and_save_model(data, labels, num_classes, num_lrpair)\n"
   ]
  },
  {
   "cell_type": "code",
   "execution_count": null,
   "id": "5907d48a",
   "metadata": {},
   "outputs": [],
   "source": [
    "# 📊 Step 4: Evaluate all trained models\n",
    "evaluate_saved_models(data, labels, num_classes)\n"
   ]
  },
  {
   "cell_type": "code",
   "execution_count": null,
   "id": "2fd8e3b1",
   "metadata": {},
   "outputs": [],
   "source": [
    "# 📈 Step 5: Visualize final model (v10)\n",
    "model_path = 'cnn_model/data_cnn-model_v010.h5'\n",
    "model = load_model(model_path, custom_objects={\n",
    "    'f1_m': f1_m,\n",
    "    'precision_m': precision_m,\n",
    "    'recall_m': recall_m\n",
    "})\n",
    "\n",
    "_, test_data, _, test_labels = train_test_split(data, labels, test_size=0.2, random_state=51)\n",
    "visualize_final_model_results(model, test_data, test_labels)\n"
   ]
  },
  {
   "cell_type": "code",
   "execution_count": null,
   "id": "4d06e87a",
   "metadata": {},
   "outputs": [],
   "source": [
    "# 🔍 Step 6: Run GradCAM++ analysis\n",
    "import os\n",
    "import re\n",
    "\n",
    "def extract_number(filename):\n",
    "    return int(re.search(r'\\d+', filename).group())\n",
    "\n",
    "class_files = sorted([f for f in os.listdir('cnn_input_data/') if f.endswith('.npz')], key=extract_number)\n",
    "\n",
    "custom_objs = {'f1_m': f1_m, 'precision_m': precision_m, 'recall_m': recall_m}\n",
    "\n",
    "run_gradcam_analysis(\n",
    "    data=data,\n",
    "    gene_list_csv='DB/filtered_CCIdb.csv',\n",
    "    model_dir='cnn_model/',\n",
    "    save_dir='gcam_res/',\n",
    "    class_files=class_files,\n",
    "    custom_objects=custom_objs\n",
    ")\n"
   ]
  },
  {
   "cell_type": "code",
   "execution_count": null,
   "id": "870b6d94",
   "metadata": {},
   "outputs": [],
   "source": [
    "# 📊 Step 7: Merge GradCAM++ results\n",
    "merge_gradcam_results(\n",
    "    path='gcam_res/',\n",
    "    save_path='CCI_res/'\n",
    ")\n"
   ]
  }
 ],
 "metadata": {
  "kernelspec": {
   "display_name": "Python 3",
   "language": "python",
   "name": "python3"
  }
 },
 "nbformat": 4,
 "nbformat_minor": 5
}
