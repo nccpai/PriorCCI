{
 "cells": [
  {
   "cell_type": "code",
   "execution_count": 1,
   "id": "aece8c74-a4d5-4910-b1c5-5e066f5b8633",
   "metadata": {},
   "outputs": [],
   "source": [
    "import numpy as np\n",
    "import random\n",
    "import anndata\n",
    "import os\n",
    "import pandas as pd\n",
    "import scanpy as sc"
   ]
  },
  {
   "cell_type": "code",
   "execution_count": 2,
   "id": "d15d577a-6af3-4942-b115-fa46f536839a",
   "metadata": {},
   "outputs": [
    {
     "data": {
      "text/plain": [
       "['gcam_res041',\n",
       " 'cnn_model031',\n",
       " 'cnn_model09',\n",
       " '07_Comparison_of_CCI_res_py.ipynb',\n",
       " 'gcam_res03',\n",
       " '05_CNN.ipynb',\n",
       " 'CCI_res03',\n",
       " 'cnn_model01',\n",
       " '06_GradCAM++_res.ipynb',\n",
       " 'cnn_model05',\n",
       " 'CCI_res041',\n",
       " 'gsea_output',\n",
       " '04_CNN_input_data_preprocess_gsminor.ipynb',\n",
       " 'cell_markers_EC.tsv',\n",
       " 'CCI_res032',\n",
       " 'umap_high_quality.png',\n",
       " 'cnn_model08',\n",
       " 'cnn_input_data02',\n",
       " '01_InferCNVpy_Lung_sample_wise.ipynb',\n",
       " '05_CNN_v2.ipynb',\n",
       " 'cnn_input_data08',\n",
       " 'del',\n",
       " 'endo-scrna.cluster.txt',\n",
       " 'cnn_input_data04',\n",
       " '04_CNN_input_data_preprocess.ipynb',\n",
       " '02_TEC_identification_v01.ipynb',\n",
       " '04_CNN_input_data_preprocess_gssubset.ipynb',\n",
       " 'CCI_res031',\n",
       " 'CCI_res05',\n",
       " 'cnn_input_data09',\n",
       " 'cnn_input_data07',\n",
       " 'cell_markers_rndsystems_hs.tsv',\n",
       " 'gcam_res04',\n",
       " '00_Data_preprocess.ipynb',\n",
       " '08_GSEApy.ipynb',\n",
       " '01_Cell_type_identification.ipynb',\n",
       " 'gcam_res08',\n",
       " 'h5ad_data',\n",
       " 'CCI_res08',\n",
       " 'cnn_input_data05',\n",
       " 'gcam_res05',\n",
       " '08_scConnect.ipynb',\n",
       " 'CCIdb',\n",
       " 'gcam_res01',\n",
       " 'cnn_model041',\n",
       " '01_InferCNVpy_Lung_dataset_wise.ipynb',\n",
       " '03_Geosketch.ipynb',\n",
       " 'gcam_res031',\n",
       " 'CCI database integration.ipynb',\n",
       " 'CCI_res04',\n",
       " 'gcam_res09',\n",
       " 'CCI_res09',\n",
       " '02_TEC_identification_v02.ipynb',\n",
       " '.ipynb_checkpoints',\n",
       " 'cnn_model04',\n",
       " 'cnn_model051',\n",
       " 'cnn_input_data06',\n",
       " 'CCI_res01',\n",
       " 'cnn_input_data01',\n",
       " 'cnn_model03',\n",
       " 'cnn_input_data03']"
      ]
     },
     "execution_count": 2,
     "metadata": {},
     "output_type": "execute_result"
    }
   ],
   "source": [
    "os.getcwd()\n",
    "os.listdir()"
   ]
  },
  {
   "cell_type": "code",
   "execution_count": 3,
   "id": "5dc21410-add5-4aba-8a6a-549401790a87",
   "metadata": {},
   "outputs": [
    {
     "name": "stderr",
     "output_type": "stream",
     "text": [
      "/home/hanbyeol/.conda/envs/py39/lib/python3.9/site-packages/anndata/__init__.py:51: FutureWarning: `anndata.read` is deprecated, use `anndata.read_h5ad` instead. `ad.read` will be removed in mid 2024.\n",
      "  warnings.warn(\n"
     ]
    },
    {
     "data": {
      "text/plain": [
       "AnnData object with n_obs × n_vars = 5569 × 36601\n",
       "    obs: 'n_counts', 'n_genes', 'mito', 'doublet_scores', 'predicted_doublets', 'Dataset', 'Anno_low', 'Anno_high', 'Organ_orig', 'Organ', 'Platform', 'Sample', 'Patient', 'Subtype', 'Tissue_site', 'Tissue', 'Meta_site', 'Treatment', 'Immunotherapy', 'Response', 'CancerType', 'CancerAbbr', 'DataOrgTis', 'PtOrgTis', 'SpOrgTis', 'OrgTis', 'leiden', 'Sample_Origin', 'Status', 'Diagnosis', 'anno_new', 'cnv_status', 'anno_final2207', 'anno_figure', 'anno_specific', 'anno_fig_specific', 'anno_2211', 'F1C', 'anno_cat', 'anno_2212', 'cnv_leiden', 'cnv_score', 'anno_2402'\n",
       "    var: 'highly_variable', 'means', 'dispersions', 'dispersions_norm', 'chromosome', 'start', 'end', 'gene_id', 'gene_name'\n",
       "    uns: 'anno_2212_colors', 'anno_2402_colors', 'anno_cat_colors', 'cnv', 'cnv_leiden_colors', 'cnv_neighbors', 'cnv_status_colors', 'hvg', 'leiden', 'leiden_colors', 'neighbors', 'pca', 'umap'\n",
       "    obsm: 'X_cnv', 'X_cnv_pca', 'X_cnv_umap', 'X_pca', 'X_umap'\n",
       "    varm: 'PCs'\n",
       "    obsp: 'cnv_neighbors_connectivities', 'cnv_neighbors_distances', 'connectivities', 'distances'"
      ]
     },
     "execution_count": 3,
     "metadata": {},
     "output_type": "execute_result"
    }
   ],
   "source": [
    "path = '/home/nccpml/DATA2/hanbyeol/TEC/h5ad_data/'\n",
    "\n",
    "adata = sc.read(path+'CCA_Lung_sketch.h5ad')\n",
    "adata"
   ]
  },
  {
   "cell_type": "code",
   "execution_count": 56,
   "id": "bfa44771-c460-4c6b-b88a-c50f26a91cb2",
   "metadata": {},
   "outputs": [
    {
     "data": {
      "text/plain": [
       "AnnData object with n_obs × n_vars = 1017 × 36601\n",
       "    obs: 'n_counts', 'n_genes', 'mito', 'doublet_scores', 'predicted_doublets', 'Dataset', 'Anno_low', 'Anno_high', 'Organ_orig', 'Organ', 'Platform', 'Sample', 'Patient', 'Subtype', 'Tissue_site', 'Tissue', 'Meta_site', 'Treatment', 'Immunotherapy', 'Response', 'CancerType', 'CancerAbbr', 'DataOrgTis', 'PtOrgTis', 'SpOrgTis', 'OrgTis', 'leiden', 'Sample_Origin', 'Status', 'Diagnosis', 'anno_new', 'cnv_status', 'anno_final2207', 'anno_figure', 'anno_specific', 'anno_fig_specific', 'anno_2211', 'F1C', 'anno_cat', 'anno_2212', 'cnv_leiden', 'cnv_score', 'anno_2402'\n",
       "    var: 'highly_variable', 'means', 'dispersions', 'dispersions_norm', 'chromosome', 'start', 'end', 'gene_id', 'gene_name'\n",
       "    uns: 'anno_2212_colors', 'anno_2402_colors', 'anno_cat_colors', 'cnv', 'cnv_leiden_colors', 'cnv_neighbors', 'cnv_status_colors', 'hvg', 'leiden', 'leiden_colors', 'neighbors', 'pca', 'umap'\n",
       "    obsm: 'X_cnv', 'X_cnv_pca', 'X_cnv_umap', 'X_pca', 'X_umap'\n",
       "    varm: 'PCs'\n",
       "    obsp: 'cnv_neighbors_connectivities', 'cnv_neighbors_distances', 'connectivities', 'distances'"
      ]
     },
     "execution_count": 56,
     "metadata": {},
     "output_type": "execute_result"
    }
   ],
   "source": [
    "# 원본 AnnData 객체에서 'anno_2402'가 'TEC' 또는 'tumor'인 행만 필터링\n",
    "filtered_adata = adata[adata.obs['anno_2402'].isin(['TEC', 'tumor'])].copy()\n",
    "\n",
    "# 필터링된 데이터를 확인 (옵션)\n",
    "filtered_adata\n"
   ]
  },
  {
   "cell_type": "code",
   "execution_count": 60,
   "id": "98cf5122-fbeb-48f4-ae0c-710abcbed032",
   "metadata": {},
   "outputs": [],
   "source": [
    "filtered_adata.write(path+'CCA_Lung_sketch_TEC_tumor.h5ad')"
   ]
  },
  {
   "cell_type": "code",
   "execution_count": 130,
   "id": "6fb868aa-1059-4ab3-a93c-7e756bf39dcc",
   "metadata": {},
   "outputs": [
    {
     "data": {
      "text/plain": [
       "AnnData object with n_obs × n_vars = 1017 × 36601\n",
       "    obs: 'n_counts', 'n_genes', 'mito', 'doublet_scores', 'predicted_doublets', 'Dataset', 'Anno_low', 'Anno_high', 'Organ_orig', 'Organ', 'Platform', 'Sample', 'Patient', 'Subtype', 'Tissue_site', 'Tissue', 'Meta_site', 'Treatment', 'Immunotherapy', 'Response', 'CancerType', 'CancerAbbr', 'DataOrgTis', 'PtOrgTis', 'SpOrgTis', 'OrgTis', 'leiden', 'Sample_Origin', 'Status', 'Diagnosis', 'anno_new', 'cnv_status', 'anno_final2207', 'anno_figure', 'anno_specific', 'anno_fig_specific', 'anno_2211', 'F1C', 'anno_cat', 'anno_2212', 'cnv_leiden', 'cnv_score', 'anno_2402'\n",
       "    var: 'highly_variable', 'means', 'dispersions', 'dispersions_norm', 'chromosome', 'start', 'end', 'gene_id', 'gene_name'\n",
       "    uns: 'anno_2212_colors', 'anno_2402_colors', 'anno_cat_colors', 'cnv', 'cnv_leiden_colors', 'cnv_neighbors', 'cnv_status_colors', 'hvg', 'leiden', 'leiden_colors', 'neighbors', 'pca', 'umap'\n",
       "    obsm: 'X_cnv', 'X_cnv_pca', 'X_cnv_umap', 'X_pca', 'X_umap'\n",
       "    varm: 'PCs'\n",
       "    obsp: 'cnv_neighbors_connectivities', 'cnv_neighbors_distances', 'connectivities', 'distances'"
      ]
     },
     "execution_count": 130,
     "metadata": {},
     "output_type": "execute_result"
    }
   ],
   "source": [
    "adata = sc.read_h5ad(path + 'CCA_Lung_sketch_TEC_tumor.h5ad')\n",
    "adata"
   ]
  },
  {
   "cell_type": "code",
   "execution_count": 131,
   "id": "a96d787b-6182-4389-9a14-4d5c60e4dda0",
   "metadata": {},
   "outputs": [
    {
     "data": {
      "text/plain": [
       "anno_2402\n",
       "tumor    676\n",
       "TEC      341\n",
       "Name: count, dtype: int64"
      ]
     },
     "execution_count": 131,
     "metadata": {},
     "output_type": "execute_result"
    }
   ],
   "source": [
    "adata.obs['anno_2402'].value_counts()"
   ]
  },
  {
   "cell_type": "code",
   "execution_count": null,
   "id": "c8911b9a-a965-4103-ae86-6d1381abe880",
   "metadata": {},
   "outputs": [],
   "source": []
  }
 ],
 "metadata": {
  "kernelspec": {
   "display_name": "Python 3 (ipykernel)",
   "language": "python",
   "name": "python3"
  },
  "language_info": {
   "codemirror_mode": {
    "name": "ipython",
    "version": 3
   },
   "file_extension": ".py",
   "mimetype": "text/x-python",
   "name": "python",
   "nbconvert_exporter": "python",
   "pygments_lexer": "ipython3",
   "version": "3.9.19"
  }
 },
 "nbformat": 4,
 "nbformat_minor": 5
}
